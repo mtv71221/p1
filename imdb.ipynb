{
 "cells": [
  {
   "cell_type": "code",
   "execution_count": 3,
   "metadata": {},
   "outputs": [],
   "source": [
    "import requests"
   ]
  },
  {
   "cell_type": "code",
   "execution_count": 4,
   "metadata": {},
   "outputs": [],
   "source": [
    "from bs4 import BeautifulSoup"
   ]
  },
  {
   "cell_type": "code",
   "execution_count": 5,
   "metadata": {},
   "outputs": [],
   "source": [
    "di_j={}"
   ]
  },
  {
   "cell_type": "code",
   "execution_count": 6,
   "metadata": {},
   "outputs": [
    {
     "name": "stdout",
     "output_type": "stream",
     "text": [
      "51\n",
      "101\n",
      "151\n",
      "201\n",
      "251\n",
      "301\n",
      "351\n",
      "401\n",
      "451\n",
      "501\n",
      "551\n",
      "601\n",
      "651\n",
      "701\n",
      "751\n",
      "801\n",
      "851\n",
      "901\n",
      "951\n",
      "1001\n",
      "1051\n",
      "1101\n",
      "1151\n",
      "1201\n",
      "1251\n",
      "1301\n",
      "1351\n",
      "1401\n",
      "1451\n",
      "1501\n",
      "1551\n",
      "1601\n",
      "1651\n",
      "1701\n",
      "1751\n",
      "1801\n",
      "1851\n",
      "1901\n",
      "1951\n",
      "2001\n",
      "2051\n",
      "2101\n",
      "2151\n",
      "2201\n",
      "2251\n",
      "2301\n",
      "2351\n",
      "2401\n",
      "2451\n",
      "2501\n",
      "2551\n",
      "2601\n",
      "2651\n",
      "2701\n",
      "2751\n",
      "2801\n",
      "2851\n",
      "2901\n",
      "2951\n",
      "3001\n",
      "3051\n",
      "3101\n",
      "3151\n",
      "3201\n",
      "3251\n",
      "3301\n",
      "3351\n",
      "3401\n",
      "3451\n",
      "3501\n",
      "3551\n",
      "3601\n",
      "3651\n",
      "3701\n",
      "3751\n",
      "3801\n",
      "3851\n",
      "3901\n",
      "3951\n",
      "4001\n"
     ]
    }
   ],
   "source": [
    "add=1\n",
    "\n",
    "while add<=3951:\n",
    "    url=\"https://www.imdb.com/search/title/?title_type=feature,tv_movie,short&release_date=2019-01-01,2021-12-31&sort=num_votes,desc&start=\"+str(add)\n",
    "    r=requests.get(url)\n",
    "    so = BeautifulSoup(r.content , \"html.parser\")\n",
    "    for x in range(len(so.find_all(\"div\",class_=\"lister-item mode-advanced\"))):\n",
    "        n=(so.find_all(\"h3\" ,class_=\"lister-item-header\")[x].find(\"a\").text)\n",
    "        s=(so.find_all(\"div\",class_=\"lister-item mode-advanced\")[x].find_all(\"h3\" ,class_=\"lister-item-header\")[0].find(\"span\",class_=\"lister-item-year text-muted unbold\").text)\n",
    "        e=(so.find_all(\"div\",class_=\"lister-item mode-advanced\")[x].find(\"div\",class_=\"inline-block ratings-imdb-rating\").find(\"strong\").text)\n",
    "        if len(so.find_all(\"div\",class_=\"ratings-bar\")[x].find_all(\"div\",class_=\"inline-block\"))==3:\n",
    "            m=(so.find_all(\"div\",class_=\"lister-item mode-advanced\")[x].find(\"div\",class_=\"inline-block ratings-metascore\").text.split()[0])\n",
    "        elif len(so.find_all(\"div\",class_=\"ratings-bar\")[x].find_all(\"div\",class_=\"inline-block\"))==2:\n",
    "            m=\"none\"\n",
    "        if len(so.find_all(\"div\",class_=\"lister-item mode-advanced\")[x].find(\"p\",class_=\"sort-num_votes-visible\").find_all(\"span\"))==5:\n",
    "            r=(so.find_all(\"div\",class_=\"lister-item mode-advanced\")[x].find(\"p\",class_=\"sort-num_votes-visible\").find_all(\"span\")[1].text)\n",
    "            p=(so.find_all(\"div\",class_=\"lister-item mode-advanced\")[x].find(\"p\",class_=\"sort-num_votes-visible\").find_all(\"span\",attrs={\"name\":\"nv\"})[1].text)\n",
    "        elif len(so.find_all(\"div\",class_=\"lister-item mode-advanced\")[x].find(\"p\",class_=\"sort-num_votes-visible\").find_all(\"span\"))==2:\n",
    "            r=(so.find_all(\"div\",class_=\"lister-item mode-advanced\")[x].find(\"p\",class_=\"sort-num_votes-visible\").find_all(\"span\")[1].text)\n",
    "            p=\"none\"\n",
    "        di_j[n]=[{\"name\":n},{\"Year\":s},{\"Score\":e},{\"Metascore\":m},{\"Votes\":r},{\"Gross\":p}]\n",
    "    add+=50\n",
    "    print(add)"
   ]
  },
  {
   "cell_type": "code",
   "execution_count": 8,
   "metadata": {},
   "outputs": [],
   "source": [
    "import json\n",
    "with open (\"amdb.json\",\"w\")as f:\n",
    "    json.dump(di_j, f)"
   ]
  }
 ],
 "metadata": {
  "kernelspec": {
   "display_name": "Python 3",
   "language": "python",
   "name": "python3"
  },
  "language_info": {
   "codemirror_mode": {
    "name": "ipython",
    "version": 3
   },
   "file_extension": ".py",
   "mimetype": "text/x-python",
   "name": "python",
   "nbconvert_exporter": "python",
   "pygments_lexer": "ipython3",
   "version": "3.8.3"
  }
 },
 "nbformat": 4,
 "nbformat_minor": 4
}
